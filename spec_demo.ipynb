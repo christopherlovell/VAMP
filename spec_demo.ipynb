{
 "cells": [
  {
   "cell_type": "code",
   "execution_count": null,
   "metadata": {
    "collapsed": true,
    "scrolled": true
   },
   "outputs": [],
   "source": [
    "import numpy as np\n",
    "import pandas as pd\n",
    "\n",
    "%matplotlib inline\n",
    "import matplotlib.pyplot as plt\n",
    "\n",
    "import vpfits\n",
    "\n",
    "from scipy.ndimage.filters import gaussian_filter\n",
    "from scipy.signal import argrelextrema\n",
    "\n",
    "import pymc as mc\n",
    "from pymc.Matplot import plot\n",
    "from scipy import stats\n",
    "from copy import copy\n",
    "import gc"
   ]
  },
  {
   "cell_type": "markdown",
   "metadata": {},
   "source": [
    "# Observed Spectrum\n",
    "\n",
    "Here we test VAMP on a spectrum measured from quasar Q1422+231, at redshift 3.62."
   ]
  },
  {
   "cell_type": "code",
   "execution_count": null,
   "metadata": {
    "collapsed": true,
    "scrolled": true
   },
   "outputs": [],
   "source": [
    "# cont = pd.read_table('q1422.cont', delim_whitespace=True, header=None)\n",
    "# cont.columns = ['wavelength', 'velocity', 'flux', 'noise']\n",
    "# cont.head()"
   ]
  },
  {
   "cell_type": "code",
   "execution_count": null,
   "metadata": {
    "collapsed": true,
    "scrolled": true
   },
   "outputs": [],
   "source": [
    "cont = np.loadtxt('data/q1422.cont')"
   ]
  },
  {
   "cell_type": "code",
   "execution_count": null,
   "metadata": {
    "collapsed": true,
    "scrolled": true
   },
   "outputs": [],
   "source": [
    "vpfit = vpfits.VPfit()\n",
    "onesigmaerror = 0.02"
   ]
  },
  {
   "cell_type": "markdown",
   "metadata": {},
   "source": [
    "## Region Detection\n",
    "\n",
    "We perform region detection on the entire spectrum, dividing it into regions to be fitted."
   ]
  },
  {
   "cell_type": "code",
   "execution_count": null,
   "metadata": {
    "scrolled": true
   },
   "outputs": [],
   "source": [
    "min_region_width = 2\n",
    "\n",
    "regions = vpfits.compute_detection_regions(cont[:,0], cont[:,2], cont[:,3], \n",
    "                                          min_region_width=min_region_width)\n",
    "\n",
    "#regions = vpfit.compute_detection_regions(cont['wavelength'], cont['flux'], cont['noise'], \n",
    "#                                          buffer=buffer, min_region_width=min_region_width)"
   ]
  },
  {
   "cell_type": "code",
   "execution_count": null,
   "metadata": {
    "collapsed": true,
    "scrolled": true
   },
   "outputs": [],
   "source": [
    "# region_arrays = []\n",
    "# region_pixels = []\n",
    "# for region in regions:\n",
    "#     start = np.where(cont['wavelength'] == region[0])[0][0]\n",
    "#     end = np.where(cont['wavelength'] == region[1])[0][0]\n",
    "#     region_pixels.append([start, end])\n",
    "#     region_arrays.append([cont['wavelength'][start:end], cont['flux'][start:end]])"
   ]
  },
  {
   "cell_type": "code",
   "execution_count": null,
   "metadata": {
    "collapsed": true,
    "scrolled": true
   },
   "outputs": [],
   "source": [
    "region_arrays = []\n",
    "region_pixels = []\n",
    "for region in regions:\n",
    "    start = np.where(cont[:,0] == region[0])[0][0]\n",
    "    end = np.where(cont[:,0] == region[1])[0][0]\n",
    "    region_pixels.append([start, end])\n",
    "    region_arrays.append([cont[:,0][start:end], cont[:,2][start:end], cont[:,3][start:end]])"
   ]
  },
  {
   "cell_type": "code",
   "execution_count": null,
   "metadata": {
    "collapsed": true,
    "scrolled": true
   },
   "outputs": [],
   "source": [
    "def plot_bracket(x, axis, dir):\n",
    "    height = .2\n",
    "    arm_length = 0.2\n",
    "    axis.plot((x, x), (1-height/2, 1+height/2), color='magenta')\n",
    "\n",
    "    if dir=='left':\n",
    "        xarm = x+arm_length\n",
    "    if dir=='right':\n",
    "        xarm = x-arm_length\n",
    "\n",
    "    axis.plot((x, xarm), (1-height/2, 1-height/2), color='magenta')\n",
    "    axis.plot((x, xarm), (1+height/2, 1+height/2), color='magenta')"
   ]
  },
  {
   "cell_type": "code",
   "execution_count": null,
   "metadata": {
    "scrolled": true
   },
   "outputs": [],
   "source": [
    "# N = 6\n",
    "\n",
    "# fig, ax = plt.subplots(N, figsize=(10,10))\n",
    "\n",
    "# for n in range(N):\n",
    "    \n",
    "#     length = len(cont) / N\n",
    "    \n",
    "#     lower_lim = n*length\n",
    "#     upper_lim = n*length+length\n",
    "    \n",
    "#     ax[n].plot(cont['wavelength'], cont['flux'], c='black')\n",
    "    \n",
    "#     ax[n].set_xlim(cont['wavelength'][lower_lim], cont['wavelength'][upper_lim])\n",
    "\n",
    "#     for arr in region_arrays:\n",
    "#         ax[n].plot(arr[0], arr[1], color='blue')\n",
    "\n",
    "#     for (start, end) in region_pixels:\n",
    "#         plot_bracket(cont['wavelength'][start], ax[n], 'left')\n",
    "#         plot_bracket(cont['wavelength'][end], ax[n], 'right')\n",
    "\n",
    "\n",
    "# plt.show()"
   ]
  },
  {
   "cell_type": "code",
   "execution_count": null,
   "metadata": {
    "scrolled": false
   },
   "outputs": [],
   "source": [
    "N = 6\n",
    "fig, ax = plt.subplots(N, figsize=(15,15))\n",
    "\n",
    "for n in range(N):\n",
    "    length = len(cont) / N\n",
    "    \n",
    "    lower_lim = n*length\n",
    "    upper_lim = n*length+length\n",
    "    \n",
    "    ax[n].plot(cont[:,0], cont[:,2], c='black')\n",
    "    \n",
    "    ax[n].set_xlim(cont[:,0][lower_lim], cont[:,0][upper_lim])\n",
    "\n",
    "    for arr in region_arrays:\n",
    "        ax[n].plot(arr[0], arr[1], color='blue')\n",
    "\n",
    "    for (start, end) in region_pixels:\n",
    "        plot_bracket(cont[:,0][start], ax[n], 'left')\n",
    "        plot_bracket(cont[:,0][end], ax[n], 'right')\n",
    "\n",
    "plt.show()"
   ]
  },
  {
   "cell_type": "markdown",
   "metadata": {},
   "source": [
    "## Fitting\n",
    "\n",
    "We fit each region separately, determining the optimal number of profiles to fit with."
   ]
  },
  {
   "cell_type": "code",
   "execution_count": null,
   "metadata": {
    "scrolled": false
   },
   "outputs": [],
   "source": [
    "iterations = 10000\n",
    "thin = 15\n",
    "burn = 1000\n",
    "for i in range(len(region_arrays)):\n",
    "    wavelengths = region_arrays[i][0]\n",
    "    fluxes_orig = region_arrays[i][1]\n",
    "    fluxes = region_arrays[i][1]\n",
    "    noise = region_arrays[i][2]\n",
    "    n = argrelextrema(gaussian_filter(fluxes_orig, 3), np.less)[0].shape[0]\n",
    "    \"\"\"Smooth the spectra with a gaussian and find the number of local minima.\n",
    "    as a safety precaucion, set the initial guess for number of lines to 1 if\n",
    "    there are less than 4 local minima.\"\"\"\n",
    "    if n < 4:\n",
    "        n = 1\n",
    "    first = True\n",
    "    finished = False\n",
    "    print \"Setting initial number of lines to: {}\".format(n)\n",
    "    while not finished:\n",
    "        bic_array = []\n",
    "        for j in range(3):\n",
    "            vpfit_2 = vpfits.VPfit()\n",
    "            vpfit_2.initialise_model(wavelengths, fluxes, n)\n",
    "            vpfit_2.map = mc.MAP(vpfit_2.model)\n",
    "            vpfit_2.mcmc = mc.MCMC(vpfit_2.model)\n",
    "            vpfit_2.map.fit(iterlim=iterations, tol=1e-3)\n",
    "            vpfit_2.mcmc.sample(iter=2000, burn=burn, thin=thin, progress_bar=False)\n",
    "            vpfit_2.map.fit(iterlim=iterations, tol=1e-3)\n",
    "            vpfit_2.mcmc.sample(iter=2000, burn=burn, thin=thin, progress_bar=False)\n",
    "            vpfit_2.map.fit(iterlim=iterations, tol=1e-3)\n",
    "            bic_array.append(vpfit_2.map.BIC)\n",
    "        if first:\n",
    "            first = False\n",
    "            n += 1\n",
    "            bic_old = vpfit_2.map.BIC\n",
    "            vpfit_old = copy(vpfit_2)\n",
    "            del vpfit_2\n",
    "        else:\n",
    "            if bic_old > np.average(bic_array):\n",
    "                print \"Old BIC value of {:.2f} is greater than the current {:.2f}.\".format(bic_old, np.average(bic_array))\n",
    "                print \"Increasing the number of lines to: {}\".format(n+1)\n",
    "                n += 1\n",
    "                bic_old = np.average(bic_array)\n",
    "                vpfit_old = copy(vpfit_2)\n",
    "                del vpfit_2\n",
    "            else:\n",
    "                print \"BIC increased with increasing the line number, stopping.\"\n",
    "                print \"Final n={}.\".format(n-1)\n",
    "                finished = True\n",
    "    vpfit_old.mcmc.sample(iter=15000, burn=burn, thin=thin, progress_bar=False)\n",
    "    start = region_pixels[i][0]\n",
    "    end = region_pixels[i][1]\n",
    "    vpfit_old.plot(wavelengths, fluxes_orig, n=n-1, start_pix=start, end_pix=end)\n",
    "    del vpfit_2\n",
    "    gc.collect()"
   ]
  },
  {
   "cell_type": "code",
   "execution_count": null,
   "metadata": {
    "collapsed": true
   },
   "outputs": [],
   "source": []
  }
 ],
 "metadata": {
  "kernelspec": {
   "display_name": "Python 2",
   "language": "python",
   "name": "python2"
  },
  "language_info": {
   "codemirror_mode": {
    "name": "ipython",
    "version": 2
   },
   "file_extension": ".py",
   "mimetype": "text/x-python",
   "name": "python",
   "nbconvert_exporter": "python",
   "pygments_lexer": "ipython2",
   "version": "2.7.13"
  }
 },
 "nbformat": 4,
 "nbformat_minor": 1
}
